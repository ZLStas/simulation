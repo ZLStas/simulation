{
 "cells": [
  {
   "cell_type": "markdown",
   "source": [
    "# Typical network delay destribution\n",
    "\n",
    "<img alt=\"Network delay destribution\" height=\"400\" src=\"delay_destribution.png\" width=\"600\"/>\n",
    "\n",
    "\n",
    "The histogram of the 'remote_avg' column from dataset shows the distribution of the values. Based on the plot, the distribution does not appear to be normal, as it is heavily skewed to the right.\n",
    "\n",
    "Additionally, the Shapiro-Wilk test, a statistical test for normality, indicates that the data does not follow a normal distribution (pvalue=0.0). Typically, if the p-value is less than 0.05, the null hypothesis of normality is rejected. In this case, the test result is 'Fail', meaning the data does not follow a normal distribution.\n",
    "\n",
    "Given the shape of the histogram and the result of the Shapiro-Wilk test, the distribution of the 'remote_avg' values appears to be more consistent with a skewed distribution, possibly an exponential or a log-normal distribution, rather than a normal distribution. This is common in network delay data, where there are a lot of small values and a long tail of larger values\n",
    "\n",
    "\n"
   ],
   "metadata": {
    "collapsed": false
   }
  },
  {
   "cell_type": "markdown",
   "source": [
    "# Log Normal distribution for network delay\n",
    "### Average reconfiguration of the cluster when network performance degrading \n",
    "Assuming tickTime is set to 2000ms\n",
    "initLimit represented as reconfigurationTimout"
   ],
   "metadata": {
    "collapsed": false
   }
  },
  {
   "cell_type": "code",
   "execution_count": 7,
   "outputs": [
    {
     "name": "stderr",
     "output_type": "stream",
     "text": [
      "Line_15.jupyter.kts (4:43 - 53) Unresolved reference: runAverage"
     ]
    }
   ],
   "source": [
    "import org.zhuravel.DelayType\n",
    "import org.zhuravel.Simulation\n",
    "\n",
    "val reconfigurationFriquency = Simulation.runAverage(\n",
    "    DelayType.LOG_NORMAL,\n",
    "    from = 700,\n",
    "    until = 3475,\n",
    "    networkDegradation = 3000,\n",
    "    ticks = 100,\n",
    "    reconfigurationTimout = 3475\n",
    ")\n",
    "\n",
    "%use kandy\n",
    "plot {\n",
    "    line {\n",
    "        x(reconfigurationFriquency.keys)\n",
    "        y(reconfigurationFriquency.values)\n",
    "    }\n",
    "}\n",
    "\n",
    "\n"
   ],
   "metadata": {
    "collapsed": false,
    "ExecuteTime": {
     "end_time": "2024-01-17T11:03:17.375947Z",
     "start_time": "2024-01-17T11:03:10.304364Z"
    }
   }
  },
  {
   "cell_type": "markdown",
   "source": [
    "### Draw trend line"
   ],
   "metadata": {
    "collapsed": false
   }
  },
  {
   "cell_type": "code",
   "execution_count": 2,
   "outputs": [
    {
     "name": "stderr",
     "output_type": "stream",
     "text": [
      "Line_9.jupyter.kts (6:10 - 41) Unresolved reference: reconfigurationFriquencyAvarage\n",
      "Line_9.jupyter.kts (7:10 - 41) Unresolved reference: reconfigurationFriquencyAvarage\n",
      "Line_9.jupyter.kts (13:32 - 34) Unresolved reference: it\n",
      "Line_9.jupyter.kts (13:43 - 45) Unresolved reference: it\n",
      "Line_9.jupyter.kts (14:24 - 26) Unresolved reference: it\n",
      "Line_9.jupyter.kts (19:46 - 48) Unresolved reference: it\n",
      "Line_9.jupyter.kts (25:9 - 10) Overload resolution ambiguity: \n",
      "public open fun x(column: String, parameters: LetsPlotPositionalMappingParametersContinuous<Any?>.() -> Unit = ...): PositionalMapping<Any?> defined in org.jetbrains.kotlinx.kandy.letsplot.layers.context.LineContext\n",
      "public open fun <T> x(values: Iterable<TypeVariable(T)>, name: String? = ..., parameters: LetsPlotPositionalMappingParametersContinuous<TypeVariable(T)>.() -> Unit = ...): PositionalMapping<TypeVariable(T)> defined in org.jetbrains.kotlinx.kandy.letsplot.layers.context.LineContext\n",
      "public open fun <T> x(column: KProperty<TypeVariable(T)>, parameters: LetsPlotPositionalMappingParametersContinuous<TypeVariable(T)>.() -> Unit = ...): PositionalMapping<TypeVariable(T)> defined in org.jetbrains.kotlinx.kandy.letsplot.layers.context.LineContext\n",
      "public open fun <T> x(values: DataColumn<TypeVariable(T)>, parameters: LetsPlotPositionalMappingParametersContinuous<TypeVariable(T)>.() -> Unit = ...): PositionalMapping<TypeVariable(T)> defined in org.jetbrains.kotlinx.kandy.letsplot.layers.context.LineContext\n",
      "public open fun <T> x(column: ColumnReference<TypeVariable(T)>, parameters: LetsPlotPositionalMappingParametersContinuous<TypeVariable(T)>.() -> Unit = ...): PositionalMapping<TypeVariable(T)> defined in org.jetbrains.kotlinx.kandy.letsplot.layers.context.LineContext\n",
      "public open fun x(parameters: AxisParametersWithSetter.() -> Unit = ...): Unit defined in org.jetbrains.kotlinx.kandy.letsplot.layers.context.LineContext\n",
      "Line_9.jupyter.kts (26:9 - 10) Overload resolution ambiguity: \n",
      "public open fun y(column: String, parameters: LetsPlotPositionalMappingParametersContinuous<Any?>.() -> Unit = ...): PositionalMapping<Any?> defined in org.jetbrains.kotlinx.kandy.letsplot.layers.context.LineContext\n",
      "public open fun <T> y(values: Iterable<TypeVariable(T)>, name: String? = ..., parameters: LetsPlotPositionalMappingParametersContinuous<TypeVariable(T)>.() -> Unit = ...): PositionalMapping<TypeVariable(T)> defined in org.jetbrains.kotlinx.kandy.letsplot.layers.context.LineContext\n",
      "public open fun <T> y(column: KProperty<TypeVariable(T)>, parameters: LetsPlotPositionalMappingParametersContinuous<TypeVariable(T)>.() -> Unit = ...): PositionalMapping<TypeVariable(T)> defined in org.jetbrains.kotlinx.kandy.letsplot.layers.context.LineContext\n",
      "public open fun <T> y(values: DataColumn<TypeVariable(T)>, parameters: LetsPlotPositionalMappingParametersContinuous<TypeVariable(T)>.() -> Unit = ...): PositionalMapping<TypeVariable(T)> defined in org.jetbrains.kotlinx.kandy.letsplot.layers.context.LineContext\n",
      "public open fun <T> y(column: ColumnReference<TypeVariable(T)>, parameters: LetsPlotPositionalMappingParametersContinuous<TypeVariable(T)>.() -> Unit = ...): PositionalMapping<TypeVariable(T)> defined in org.jetbrains.kotlinx.kandy.letsplot.layers.context.LineContext\n",
      "public open fun y(parameters: AxisParametersWithSetter.() -> Unit = ...): Unit defined in org.jetbrains.kotlinx.kandy.letsplot.layers.context.LineContext\n",
      "Line_9.jupyter.kts (29:9 - 10) Overload resolution ambiguity: \n",
      "public open fun x(column: String, parameters: LetsPlotPositionalMappingParametersContinuous<Any?>.() -> Unit = ...): PositionalMapping<Any?> defined in org.jetbrains.kotlinx.kandy.letsplot.layers.context.LineContext\n",
      "public open fun <T> x(values: Iterable<TypeVariable(T)>, name: String? = ..., parameters: LetsPlotPositionalMappingParametersContinuous<TypeVariable(T)>.() -> Unit = ...): PositionalMapping<TypeVariable(T)> defined in org.jetbrains.kotlinx.kandy.letsplot.layers.context.LineContext\n",
      "public open fun <T> x(column: KProperty<TypeVariable(T)>, parameters: LetsPlotPositionalMappingParametersContinuous<TypeVariable(T)>.() -> Unit = ...): PositionalMapping<TypeVariable(T)> defined in org.jetbrains.kotlinx.kandy.letsplot.layers.context.LineContext\n",
      "public open fun <T> x(values: DataColumn<TypeVariable(T)>, parameters: LetsPlotPositionalMappingParametersContinuous<TypeVariable(T)>.() -> Unit = ...): PositionalMapping<TypeVariable(T)> defined in org.jetbrains.kotlinx.kandy.letsplot.layers.context.LineContext\n",
      "public open fun <T> x(column: ColumnReference<TypeVariable(T)>, parameters: LetsPlotPositionalMappingParametersContinuous<TypeVariable(T)>.() -> Unit = ...): PositionalMapping<TypeVariable(T)> defined in org.jetbrains.kotlinx.kandy.letsplot.layers.context.LineContext\n",
      "public open fun x(parameters: AxisParametersWithSetter.() -> Unit = ...): Unit defined in org.jetbrains.kotlinx.kandy.letsplot.layers.context.LineContext\n",
      "Line_9.jupyter.kts (30:9 - 10) Overload resolution ambiguity: \n",
      "public open fun y(column: String, parameters: LetsPlotPositionalMappingParametersContinuous<Any?>.() -> Unit = ...): PositionalMapping<Any?> defined in org.jetbrains.kotlinx.kandy.letsplot.layers.context.LineContext\n",
      "public open fun <T> y(values: Iterable<TypeVariable(T)>, name: String? = ..., parameters: LetsPlotPositionalMappingParametersContinuous<TypeVariable(T)>.() -> Unit = ...): PositionalMapping<TypeVariable(T)> defined in org.jetbrains.kotlinx.kandy.letsplot.layers.context.LineContext\n",
      "public open fun <T> y(column: KProperty<TypeVariable(T)>, parameters: LetsPlotPositionalMappingParametersContinuous<TypeVariable(T)>.() -> Unit = ...): PositionalMapping<TypeVariable(T)> defined in org.jetbrains.kotlinx.kandy.letsplot.layers.context.LineContext\n",
      "public open fun <T> y(values: DataColumn<TypeVariable(T)>, parameters: LetsPlotPositionalMappingParametersContinuous<TypeVariable(T)>.() -> Unit = ...): PositionalMapping<TypeVariable(T)> defined in org.jetbrains.kotlinx.kandy.letsplot.layers.context.LineContext\n",
      "public open fun <T> y(column: ColumnReference<TypeVariable(T)>, parameters: LetsPlotPositionalMappingParametersContinuous<TypeVariable(T)>.() -> Unit = ...): PositionalMapping<TypeVariable(T)> defined in org.jetbrains.kotlinx.kandy.letsplot.layers.context.LineContext\n",
      "public open fun y(parameters: AxisParametersWithSetter.() -> Unit = ...): Unit defined in org.jetbrains.kotlinx.kandy.letsplot.layers.context.LineContext"
     ]
    }
   ],
   "source": [
    "\n",
    "import kotlin.math.pow\n",
    "import org.jetbrains.kotlinx.kandy.ir.feature.FeatureName\n",
    "\n",
    "// Assuming reconfigurationFrequencyAverage is a Map<Int, Double>\n",
    "val xs = reconfigurationFriquencyAvarage.keys.toList()\n",
    "val ys = reconfigurationFriquencyAvarage.values.toList()\n",
    "\n",
    "// Calculate the coefficients for the trend line (simple linear regression for illustration)\n",
    "val n = xs.size\n",
    "val sumX = xs.sum()\n",
    "val sumY = ys.sum()\n",
    "val sumXY = xs.zip(ys).sumOf { it.first * it.second }\n",
    "val sumXX = xs.sumOf { it.toDouble().pow(2) }\n",
    "val slope = (n * sumXY - sumX * sumY) / (n * sumXX - sumX.toDouble().pow(2))\n",
    "val intercept = (sumY - slope * sumX) / n\n",
    "\n",
    "// Define the trend line using the slope and intercept\n",
    "val trendLine = xs.map { intercept + slope * it }\n",
    "\n",
    "// Assuming you have a function to plot your data. This might be different based on the actual plotting library you're using.\n",
    "\n",
    "plot {\n",
    "    line {\n",
    "        x(xs)\n",
    "        y(ys)\n",
    "    }\n",
    "    line {\n",
    "        x(xs)\n",
    "        y(trendLine)\n",
    "        this.color = Color.RED\n",
    "    }\n",
    "}"
   ],
   "metadata": {
    "collapsed": false,
    "ExecuteTime": {
     "start_time": "2024-01-17T11:02:43.227299Z"
    }
   }
  },
  {
   "cell_type": "markdown",
   "source": [
    "### Difference between values \n",
    "It can show cluster instability as network performance degrade"
   ],
   "metadata": {
    "collapsed": false
   }
  },
  {
   "cell_type": "code",
   "execution_count": 3,
   "outputs": [
    {
     "name": "stderr",
     "output_type": "stream",
     "text": [
      "Line_10.jupyter.kts (3:11 - 42) Unresolved reference: reconfigurationFriquencyAvarage\n",
      "Line_10.jupyter.kts (4:19 - 50) Unresolved reference: reconfigurationFriquencyAvarage\n",
      "Line_10.jupyter.kts (4:69 - 100) Unresolved reference: reconfigurationFriquencyAvarage\n",
      "Line_10.jupyter.kts (4:122 - 123) Cannot infer a type for this parameter. Please specify it explicitly.\n",
      "Line_10.jupyter.kts (4:125 - 126) Cannot infer a type for this parameter. Please specify it explicitly."
     ]
    }
   ],
   "source": [
    "plot {\n",
    "    line {\n",
    "        x(reconfigurationFriquencyAvarage.keys)\n",
    "        y(listOf( reconfigurationFriquencyAvarage.values.first()) + reconfigurationFriquencyAvarage.values.zipWithNext { a, b -> b - a })\n",
    "    }\n",
    "}"
   ],
   "metadata": {
    "collapsed": false,
    "ExecuteTime": {
     "end_time": "2024-01-17T11:02:43.551592Z",
     "start_time": "2024-01-17T11:02:43.481056Z"
    }
   }
  },
  {
   "cell_type": "markdown",
   "source": [
    "# With folty network link \n",
    "Assuming nodes degrade in performence "
   ],
   "metadata": {
    "collapsed": false
   }
  },
  {
   "cell_type": "code",
   "execution_count": 4,
   "outputs": [
    {
     "name": "stderr",
     "output_type": "stream",
     "text": [
      "The problem is found in one of the loaded libraries: check library renderers\n",
      "java.lang.NoSuchMethodError: 'void org.jetbrains.letsPlot.Geom$line.<init>(java.lang.Number, java.lang.Number, java.lang.Number, java.lang.Object, java.lang.Object, java.lang.Number, java.lang.String, kotlin.jvm.functions.Function1, int, kotlin.jvm.internal.DefaultConstructorMarker)'\n",
      "org.jetbrains.kotlinx.jupyter.exceptions.ReplLibraryException: The problem is found in one of the loaded libraries: check library renderers\n",
      "\tat org.jetbrains.kotlinx.jupyter.exceptions.ReplLibraryExceptionKt.rethrowAsLibraryException(ReplLibraryException.kt:32)\n",
      "\tat org.jetbrains.kotlinx.jupyter.codegen.RenderersProcessorImpl.renderResult(RenderersProcessorImpl.kt:26)\n",
      "\tat org.jetbrains.kotlinx.jupyter.ReplForJupyterImpl$evalEx$1$rendered$1$1.invoke(repl.kt:514)\n",
      "\tat org.jetbrains.kotlinx.jupyter.config.LoggingKt.catchAll(logging.kt:42)\n",
      "\tat org.jetbrains.kotlinx.jupyter.config.LoggingKt.catchAll$default(logging.kt:41)\n",
      "\tat org.jetbrains.kotlinx.jupyter.ReplForJupyterImpl$evalEx$1.invoke(repl.kt:513)\n",
      "\tat org.jetbrains.kotlinx.jupyter.ReplForJupyterImpl$evalEx$1.invoke(repl.kt:478)\n",
      "\tat org.jetbrains.kotlinx.jupyter.ReplForJupyterImpl.withEvalContext(repl.kt:441)\n",
      "\tat org.jetbrains.kotlinx.jupyter.ReplForJupyterImpl.evalEx(repl.kt:478)\n",
      "\tat org.jetbrains.kotlinx.jupyter.messaging.ProtocolKt$shellMessagesHandler$2$res$1.invoke(protocol.kt:320)\n",
      "\tat org.jetbrains.kotlinx.jupyter.messaging.ProtocolKt$shellMessagesHandler$2$res$1.invoke(protocol.kt:314)\n",
      "\tat org.jetbrains.kotlinx.jupyter.JupyterExecutorImpl$runExecution$execThread$1.invoke(execution.kt:38)\n",
      "\tat org.jetbrains.kotlinx.jupyter.JupyterExecutorImpl$runExecution$execThread$1.invoke(execution.kt:33)\n",
      "\tat kotlin.concurrent.ThreadsKt$thread$thread$1.run(Thread.kt:30)\n",
      "Caused by: java.lang.NoSuchMethodError: 'void org.jetbrains.letsPlot.Geom$line.<init>(java.lang.Number, java.lang.Number, java.lang.Number, java.lang.Object, java.lang.Object, java.lang.Number, java.lang.String, kotlin.jvm.functions.Function1, int, kotlin.jvm.internal.DefaultConstructorMarker)'\n",
      "\tat org.jetbrains.kotlinx.kandy.letsplot.translator.GeomWrapKt.wrap(geomWrap.kt:22)\n",
      "\tat org.jetbrains.kotlinx.kandy.letsplot.translator.LayerWrapper.<init>(LayerWrapper.kt:36)\n",
      "\tat org.jetbrains.kotlinx.kandy.letsplot.translator.LayerWrapKt.wrap(layerWrap.kt:40)\n",
      "\tat org.jetbrains.kotlinx.kandy.letsplot.translator.ToLetsPlotKt.toLetsPlot(toLetsPlot.kt:14)\n",
      "\tat org.jetbrains.kotlinx.kandy.letsplot.jupyter.Integration$onLoaded$2$1.invoke(Integration.kt:50)\n",
      "\tat org.jetbrains.kotlinx.kandy.letsplot.jupyter.Integration$onLoaded$2$1.invoke(Integration.kt:50)\n",
      "\tat org.jetbrains.kotlinx.kandy.letsplot.jupyter.Integration$onLoaded$lambda$0$$inlined$render$1.invoke(JupyterIntegration.kt:133)\n",
      "\tat org.jetbrains.kotlinx.kandy.letsplot.jupyter.Integration$onLoaded$lambda$0$$inlined$render$1.invoke(JupyterIntegration.kt:133)\n",
      "\tat org.jetbrains.kotlinx.kandy.letsplot.jupyter.Integration$onLoaded$lambda$0$$inlined$render$2.execute(JupyterIntegration.kt:140)\n",
      "\tat org.jetbrains.kotlinx.jupyter.codegen.RenderersProcessorImpl$renderResult$newField$1.invoke(RenderersProcessorImpl.kt:27)\n",
      "\tat org.jetbrains.kotlinx.jupyter.codegen.RenderersProcessorImpl$renderResult$newField$1.invoke(RenderersProcessorImpl.kt:26)\n",
      "\tat org.jetbrains.kotlinx.jupyter.exceptions.ReplLibraryExceptionKt.rethrowAsLibraryException(ReplLibraryException.kt:30)\n",
      "\t... 13 more\n",
      "\n",
      "\n"
     ]
    },
    {
     "data": {
      "text/plain": "null"
     },
     "execution_count": 4,
     "metadata": {},
     "output_type": "execute_result"
    }
   ],
   "source": [
    "import org.jetbrains.kotlinx.kandy.dsl.internal.DatasetHandler\n",
    "import org.jetbrains.letsPlot.label.xlab\n",
    "import org.zhuravel.DelayType\n",
    "import org.zhuravel.Simulation\n",
    "\n",
    "val avarageReconfigurationWithOneBrokenLink = Simulation.runWithBrokenLeaderToNodeLinks(\n",
    "    DelayType.LOG_NORMAL,\n",
    "    from = 700,\n",
    "    until = 3475,\n",
    "    networkDegradation = 3000,\n",
    "    ticks = 100,\n",
    "    reconfigurationTimout = 3475,\n",
    "    numberOfBrokenLinks = 1\n",
    ")\n",
    "val avarageReconfigurationWithTwoBrokenLink = Simulation.runWithBrokenLeaderToNodeLinks(\n",
    "    DelayType.LOG_NORMAL,\n",
    "    from = 700,\n",
    "    until = 3475,\n",
    "    networkDegradation = 3000,\n",
    "    ticks = 100,\n",
    "    reconfigurationTimout = 3475,\n",
    "    numberOfBrokenLinks = 2\n",
    ")\n",
    "val avarageReconfigurationWithTreeBrokenLink = Simulation.runWithBrokenLeaderToNodeLinks(\n",
    "    DelayType.LOG_NORMAL,\n",
    "    from = 700,\n",
    "    until = 3475,\n",
    "    networkDegradation = 3000,\n",
    "    ticks = 100,\n",
    "    reconfigurationTimout = 3475,\n",
    "    numberOfBrokenLinks = 3\n",
    ")\n",
    "val avarageReconfigurationWithForeBrokenLink = Simulation.runWithBrokenLeaderToNodeLinks(\n",
    "    DelayType.LOG_NORMAL,\n",
    "    from = 700,\n",
    "    until = 3475,\n",
    "    networkDegradation = 3000,\n",
    "    ticks = 100,\n",
    "    reconfigurationTimout = 3475,\n",
    "    numberOfBrokenLinks = 4\n",
    ")\n",
    "\n",
    "val avarageReconfigurationWithAllNodesDegrading = Simulation.runWithAllNodesDegrading(\n",
    "    DelayType.LOG_NORMAL,\n",
    "    from = 700,\n",
    "    until = 3475,\n",
    "    networkDegradation = 3000,\n",
    "    ticks = 100,\n",
    "    reconfigurationTimout = 3475\n",
    ")\n",
    "\n",
    "val avarageReconfiguration = Simulation.runFor(\n",
    "    DelayType.LOG_NORMAL,\n",
    "    from = 700,\n",
    "    until = 3475,\n",
    "    times = 3000,\n",
    "    ticks = 100,\n",
    "    reconfigurationTimout = (3475 * 0.9).toInt()\n",
    ")\n",
    "\n",
    "%useLatestDescriptors\n",
    "%use kandy\n",
    "plot {\n",
    "    line {\n",
    "        x(avarageReconfigurationWithOneBrokenLink.keys)\n",
    "        y(avarageReconfigurationWithOneBrokenLink.values)\n",
    "        color = Color.GREEN\n",
    "    }\n",
    "    line {\n",
    "        x(avarageReconfigurationWithTwoBrokenLink.keys)\n",
    "        y(avarageReconfigurationWithTwoBrokenLink.values)\n",
    "        color = Color.LIGHT_GREEN\n",
    "    }\n",
    "    line {\n",
    "        x(avarageReconfigurationWithTreeBrokenLink.keys)\n",
    "        y(avarageReconfigurationWithTreeBrokenLink.values)\n",
    "        color = Color.YELLOW\n",
    "    }\n",
    "    line {\n",
    "        x(avarageReconfigurationWithForeBrokenLink.keys)\n",
    "        y(avarageReconfigurationWithForeBrokenLink.values)\n",
    "        color = Color.RED\n",
    "    }\n",
    "    line {\n",
    "        x(avarageReconfigurationWithAllNodesDegrading.keys)\n",
    "        y(avarageReconfigurationWithAllNodesDegrading.values)\n",
    "        color = Color.PURPLE\n",
    "    }\n",
    "    line {\n",
    "        x(avarageReconfiguration.keys)\n",
    "        y(avarageReconfiguration.values)\n",
    "        color = Color.BLUE\n",
    "    }\n",
    "}"
   ],
   "metadata": {
    "collapsed": false,
    "ExecuteTime": {
     "end_time": "2024-01-17T11:02:48.303671Z",
     "start_time": "2024-01-17T11:02:43.550564Z"
    }
   }
  },
  {
   "cell_type": "markdown",
   "source": [],
   "metadata": {
    "collapsed": false
   }
  },
  {
   "cell_type": "code",
   "execution_count": 5,
   "outputs": [
    {
     "name": "stderr",
     "output_type": "stream",
     "text": [
      "Line_13.jupyter.kts (12:9 - 18) Type mismatch: inferred type is Duration but TypeVariable(T).() -> TypeVariable(R) was expected\n",
      "Line_13.jupyter.kts (13:5 - 11) Unresolved reference: leader"
     ]
    }
   ],
   "source": [
    "@file:Repository(\"*mavenLocal\")\n",
    "\n",
    "%useLatestDescriptors on\n",
    "\n",
    "@file:DependsOn(\"com.github.holgerbrandl:kalasim:0.11.6\")\n",
    "@file:DependsOn(\"com.github.holgerbrandl:kravis:0.9.95\")\n",
    "\n",
    "import org.kalasim.plot.letsplot.display\n",
    "\n",
    "\n",
    "val sim = Simulation()\n",
    "sim.run(3.minutes)\n",
    "sim.leader.display()\n",
    "//sim.printStatistics()\n",
    "\n"
   ],
   "metadata": {
    "collapsed": false,
    "ExecuteTime": {
     "end_time": "2024-01-17T11:02:53.620410Z",
     "start_time": "2024-01-17T11:02:48.294601Z"
    }
   }
  },
  {
   "cell_type": "code",
   "execution_count": 6,
   "outputs": [],
   "source": [],
   "metadata": {
    "collapsed": false,
    "ExecuteTime": {
     "end_time": "2024-01-17T11:02:53.624635Z",
     "start_time": "2024-01-17T11:02:53.615660Z"
    }
   }
  }
 ],
 "metadata": {
  "kernelspec": {
   "display_name": "Kotlin",
   "language": "kotlin",
   "name": "kotlin"
  },
  "language_info": {
   "name": "kotlin",
   "version": "1.9.0",
   "mimetype": "text/x-kotlin",
   "file_extension": ".kt",
   "pygments_lexer": "kotlin",
   "codemirror_mode": "text/x-kotlin",
   "nbconvert_exporter": ""
  },
  "ktnbPluginMetadata": {
   "projectDependencies": true
  }
 },
 "nbformat": 4,
 "nbformat_minor": 0
}
